{
 "cells": [
  {
   "cell_type": "markdown",
   "metadata": {},
   "source": [
    "<section style=\"position:relative; width:100%;\">\n",
    "\n",
    "<div style=\"display:inline-block; float:right\">\n",
    "    <h3>Lycée Marie curie</h3>\n",
    "    <p>Terminale NSI</p>\n",
    "</div>\n",
    "\n",
    "</section>\n",
    "\n",
    "\n",
    "<h1 style=\"text-align: center; width:100%\">Alignement de séquences</h1>\n",
    "\n",
    "# 1. L'alignement de séquences en bio-informatique\n",
    "\n",
    "Dans le domaine de la bio-informatique, un problème algorithmique essentiel est celui de l’alignement de séquences, typiquement pour comparer des séquences d'ADN. On peut le formaliser en ces termes :\n",
    "\n",
    "- Etant données deux chaı̂nes de caractères, comment mettre _le plus possible_ en correspondance les caractères de la première chaı̂ne avec ceux de la seconde chaı̂ne, en conservant l'ordre des caractères mais en s’autorisant à insérer des trous dans l'une ou l’autre des chaı̂nes.\n",
    "\n",
    "- La seule contrainte est que l’on doit utiliser tous les caractères de chaque chaı̂ne, dans l’ordre, et que l’on n’aligne jamais deux trous.\n",
    "\n",
    "- Parmi tous les alignements possibles, on cherche celui qui donne le score maximal : on ajoute un point quand deux caractères identiques sont alignés, mais on soustrait un point quand ce n'est pas le cas (un trou est un caractère).\n",
    "\n",
    "### Exemple :\n",
    "Si on considère les chaı̂nes `GENOME` et `ENORME`, en utilisant le symbole `-` pour désigner un trou, on peut\n",
    "aligner leurs caractères de la façon suivante :\n",
    "```\n",
    "GENO-ME                  G--ENO-ME\n",
    "-ENORME                  -EN-O-RME\n",
    "\n",
    "score: 5-2=3 (max)       score: 2-7=-5\n",
    "``` \n",
    "\n",
    "### Exercice :\n",
    "Déterminer le score max pour l'alignement des mots `CHAT` et `CAT`.\n",
    "\n",
    "# 2. Solution récurssive\n",
    "\n",
    "Reprenons l'exemple précédent et considéront la dernière lettre de chaque mot ainsi que le caractère `-`.\n",
    "\n",
    "Il y a trois possibilité :\n",
    "```\n",
    "ENORM, E          ENORM, E         ENORME, -\n",
    "GENOM, E         GENOME, -          GENOM, E\n",
    "```\n",
    "\n",
    "- `E` et `E` sont alignés, le score est alors égal au score de l'alignement de `GENOM` et `ENORM` plus 1 car les dernières lettres de chaque mot sont les mêmes,\n",
    "- `E` et `-` sont alignés, le score est alors égal au score de l'alignement de `GENOM` et `ENORME` moins 1,\n",
    "- `-` et `E` sont alignés, le score est alors égal au score de l'alignement de `GENOME` et `ENORM` moins 1.\n",
    "\n",
    "Le score maximal est alors le maximum de ces trois possibilités. Chaque possibilité est calculer récursivement avec le même procédé.\n",
    "\n",
    "De manière général, si l'on considère deux mots $a=a_0a_1...a_n$ et $b = b_0 b_1 ... b_m$, tels que $a$ soit traité jusqu'a $a_i$ et $b$ jusqu'a $b_j$, il y a trois possibilités :\n",
    "- on aligne $a_{i-1}$ avec $b_{j-1}$\n",
    "- on aligne $a_{i-1}$ avec $-$\n",
    "- on aligne $b_{j-1}$ avec $-$\n",
    "\n",
    "Ce qui donne la formule de récurrence suivante :\n",
    "$$\n",
    "score(a,i,b,j) = \\max\\left\\{\n",
    "    \\begin{array}\\\\\n",
    "        score(a,i-1,b,j-1)+1 & \\mbox{si } \\ a_{i-1} = b_{j-1} \\\\\n",
    "        score(a,i-1,b,j-1)-1 & \\mbox{si } \\ a_{i-1} \\neq b_{j-1} \\\\\n",
    "        score(a,i,b,j-1)-1 \\\\\n",
    "        score(a,i-1,b,j)-1\n",
    "    \\end{array}\n",
    "\\right.\n",
    "$$\n",
    "\n",
    "Le processus ce termine lorsque l'un des deux mots n'a plus de caractère, dans ce cas le score est négatif et correspond aux nombres de lettres restantes.\n",
    "\n",
    "### Exercice\n",
    "Compléter le programme récursif suivant afin qu'il réalise cet algorithme."
   ]
  },
  {
   "cell_type": "code",
   "execution_count": 61,
   "metadata": {},
   "outputs": [],
   "source": [
    "def score_rec(a, i, b, j):\n",
    "    #s'il n'y a plus de lettre dans le mot a\n",
    "    if i == 0:\n",
    "        return ???\n",
    "    #s'il n'y a plus de lettre dans le mot b\n",
    "    elif j == 0:\n",
    "        return ???\n",
    "    else:\n",
    "        #si a[i-1] et b[i-1] sont alignés\n",
    "        if a[i-1] == b[j-1]:\n",
    "            s1 = ???\n",
    "        else:\n",
    "            s1 = ???\n",
    "        #si a[i-1] et - sont alignés\n",
    "        s2 = ???\n",
    "        #si b[i-1] et - sont alignés\n",
    "        s3 = ???\n",
    "        return max(s1, s2, s3)"
   ]
  },
  {
   "cell_type": "code",
   "execution_count": 62,
   "metadata": {},
   "outputs": [
    {
     "data": {
      "text/plain": [
       "3"
      ]
     },
     "execution_count": 62,
     "metadata": {},
     "output_type": "execute_result"
    }
   ],
   "source": [
    "a, b = 'ENORME', 'GENOME'\n",
    "n, m = len(a), len(b)\n",
    "score_rec(a, n, b, m)"
   ]
  },
  {
   "cell_type": "code",
   "execution_count": 63,
   "metadata": {},
   "outputs": [
    {
     "data": {
      "text/plain": [
       "2"
      ]
     },
     "execution_count": 63,
     "metadata": {},
     "output_type": "execute_result"
    }
   ],
   "source": [
    "a, b = 'CHAT', 'CAT'\n",
    "n, m = len(a), len(b)\n",
    "score_rec(a, n, b, m)"
   ]
  },
  {
   "cell_type": "markdown",
   "metadata": {},
   "source": [
    "# 3. Programmation dynamique\n",
    "\n",
    "Comme dans le rendu de monnaie, on peut améliorer notre programme en évitant des appels redondants grâce à la programmation dynamique.\n",
    "\n",
    "Nous allons utiliser un tableau à deux dimensions dans lequel on va stocker, pour chaque pair de mots, le score maximal. Plus précisément, pour deux entiers $i$ et $j$, on va stocker dans la case $(i,j)$ de ce tableau le score maximal de l'alignement des $i$ premiers caractères du premier mot et des $j$ premiers caractères du deuxième mot.\n",
    "\n",
    "### Exemple\n",
    "Pour les mots `GENOME` et `ENORME`, on obtient :\n",
    "\n",
    "```\n",
    "        E   N   O   R   M   E\n",
    "  [ 0, -1, -2, -3, -4, -5, -6]\n",
    "G [-1, -1,  0, -1, -2, -3, -4]\n",
    "E [-2, -2, -1,  1,  0, -1, -2]\n",
    "N [-3, -3, -2,  0,  2,  1,  0]\n",
    "O [-4, -4, -3, -1,  1,  1,  0]\n",
    "M [-5, -5, -4, -2,  0,  2,  1]\n",
    "E [-6, -6, -4, -3, -1,  1,  3]\n",
    "\n",
    "```\n",
    "\n",
    "La première ligne et la première colonne correspondent au cas d'arrêt de l'algorithme récursif, c'est à dire au cas où un mot à été complètement traité.\n",
    "\n",
    "Le reste est obtenu à l'ai de la formule précédente :\n",
    "\n",
    "$$\n",
    "score[i][j] = \\max\\left\\{\n",
    "    \\begin{array}\\\\\n",
    "        score[i-1][j-1]+1 & \\mbox{si } \\ a_{i-1} = b_{j-1} \\\\\n",
    "        score[i-1][j-1]-1 & \\mbox{si } \\ a_{i-1} \\neq b_{j-1} \\\\\n",
    "        score[i,j-1]-1 \\\\\n",
    "        score[i-1,j]-1\n",
    "    \\end{array}\n",
    "\\right.\n",
    "$$\n",
    "\n",
    "### Exercices\n",
    "1. Calculer à la main le tableau des scores d'alignement pour les deux mots `CHAT` et `CAT`.\n",
    "2. Compléter le programme ci-dessous afin qu'il réalise l'algorithme décrit."
   ]
  },
  {
   "cell_type": "code",
   "execution_count": 67,
   "metadata": {},
   "outputs": [],
   "source": [
    "def score_dyn(a, b):\n",
    "    n, m = len(a), len(b)\n",
    "    score = [[0 for _ in range(m+1)] for _ in range(n+1)]\n",
    "    #première ligne\n",
    "    for i in range(n+1):\n",
    "        ???\n",
    "    #première colonne\n",
    "    for j in range(m+1):\n",
    "        ???\n",
    "    # le reste\n",
    "    for i in range(1,n+1):\n",
    "        for j in range(1, m+1):\n",
    "            if a[i-1] == b[j-1]:\n",
    "                s1 = ???\n",
    "            else:\n",
    "                s1 = ???\n",
    "            s2 = ???\n",
    "            s3 = ???\n",
    "            score[i][j] = max(s1, s2, s3)\n",
    "    return ???"
   ]
  },
  {
   "cell_type": "code",
   "execution_count": 68,
   "metadata": {},
   "outputs": [
    {
     "data": {
      "text/plain": [
       "3"
      ]
     },
     "execution_count": 68,
     "metadata": {},
     "output_type": "execute_result"
    }
   ],
   "source": [
    "score_dyn('ENORME','GENOME')"
   ]
  },
  {
   "cell_type": "code",
   "execution_count": 69,
   "metadata": {},
   "outputs": [
    {
     "data": {
      "text/plain": [
       "2"
      ]
     },
     "execution_count": 69,
     "metadata": {},
     "output_type": "execute_result"
    }
   ],
   "source": [
    "score_dyn('CAT','CHAT')"
   ]
  },
  {
   "cell_type": "markdown",
   "metadata": {},
   "source": [
    "3 Ecrire une fonction `affiche(a, b, score)` qui affiche la table `score` calculer dans la fonction `score_dyn` sou la forme suivante :\n",
    "```\n",
    "      E  N  O  R  M  E\n",
    "   0 -1 -2 -3 -4 -5 -6\n",
    "G -1 -1  0 -1 -2 -3 -4\n",
    "E -2 -2 -1  1  0 -1 -2\n",
    "N -3 -3 -2  0  2  1  0\n",
    "O -4 -4 -3 -1  1  1  0\n",
    "M -5 -5 -4 -2  0  2  1\n",
    "E -6 -6 -4 -3 -1  1  3\n",
    "```\n",
    "4 Modifier la fonction `score_dyn` sous la forme d'un couple de chaînes de caractères contenant d'éventuels caractères `-`. "
   ]
  },
  {
   "cell_type": "code",
   "execution_count": null,
   "metadata": {},
   "outputs": [],
   "source": [
    "def score_dyn(a, b):\n",
    "    n, m = len(a), len(b)\n",
    "    score = [[0 for _ in range(m+1)] for _ in range(n+1)]\n",
    "    ..."
   ]
  },
  {
   "cell_type": "markdown",
   "metadata": {},
   "source": [
    "5 Dans le problème de l'alignement de séquences d'ADN, on utilise en pratique un calcul des scores plus subtil, qui dépend des caractères qui sont alignés. Pour cela, on se donne une _matrice de similarités_. Par exemple, pour les chaînes formées uniquement des caractères `A`, `G`, `C` et `T`, on peut se donner la matrice :\n",
    "```\n",
    "    A  G  C  T\n",
    "A  10 -1 -3 -4\n",
    "G  -1  7 -5 -3\n",
    "C  -3 -5  9  0\n",
    "T  -4 -3  0  8\n",
    "```\n",
    "Par ailler on se donne une variable `gap` pour le score d'un alignement avec le caractère `-` (par exemple `gap=-5`).\n",
    "\n",
    "Modifier la fonction `score_dyn` pour qu'elle utilise ces deux variables dans le calcul du score."
   ]
  },
  {
   "cell_type": "code",
   "execution_count": null,
   "metadata": {},
   "outputs": [],
   "source": [
    "gap = -5\n",
    "sim = {\n",
    "    'A':{A:10}, {G:-1}, {C:-3}, {T:-4},\n",
    "    ...\n",
    "}\n",
    "\n",
    "def score_dyn(a,b):\n",
    "    ..."
   ]
  }
 ],
 "metadata": {
  "kernelspec": {
   "display_name": "Python 3",
   "language": "python",
   "name": "python3"
  },
  "language_info": {
   "codemirror_mode": {
    "name": "ipython",
    "version": 3
   },
   "file_extension": ".py",
   "mimetype": "text/x-python",
   "name": "python",
   "nbconvert_exporter": "python",
   "pygments_lexer": "ipython3",
   "version": "3.6.9"
  }
 },
 "nbformat": 4,
 "nbformat_minor": 2
}
