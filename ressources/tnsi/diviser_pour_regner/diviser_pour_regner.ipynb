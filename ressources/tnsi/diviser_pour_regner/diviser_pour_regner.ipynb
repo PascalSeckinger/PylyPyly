{
 "cells": [
  {
   "cell_type": "markdown",
   "metadata": {},
   "source": [
    "<section style=\"position:relative; width:100%;\">\n",
    "\n",
    "<div style=\"display:inline-block; float:right\">\n",
    "    <h3>Lycée Marie curie</h3>\n",
    "    <p>Terminale NSI</p>\n",
    "</div>\n",
    "\n",
    "</section>\n",
    "\n",
    "\n",
    "<h1 style=\"text-align: center; width:100%\">Diviser pour mieux régner</h1>\n",
    "\n",
    "La stratégie divisier pour mieux régner, _divide and conquer_ en anglais, désigne la façon de procéder d'algorithmes qui possèdent une structure récursive. L'algorithme est appliqué récursivement à des sous-problèmes de tailles moindres. Une fois résolus, les solutions sont combinées pour aboutir à la solution du problème global.\n",
    "\n",
    "Soit _n_ la taille du problème. Un algorithme Diviser-Pour-Régner procède en 3 étapes :\n",
    "1. Diviser : découper un problème initial en sous-problèmes de taille _n/2_ ;\n",
    "2. Régner : résoudre les sous-problèmes (récursivement ou directement s'ils sont assez petits) ;\n",
    "3. Combiner : calculer une solution au problème initial à partir des solutions des sous-problèmes.\n",
    "\n",
    "# Rappel sur la dichotomie\n",
    "\n",
    "Exercice 1 du sujet 19 des épreuves pratiques :\n",
    "\n",
    "Écrire une fonction recherche qui prend en paramètres un tableau `tab` de nombres entiers triés par ordre croissant et un nombre entier `n`, et qui effectue une recherche dichotomique du nombre entier `n` dans le tableau non vide tab.\n",
    "\n",
    "Cette fonction doit renvoyer un indice correspondant au nombre cherché s’il est dans le tableau, -1 sinon.\n",
    "\n",
    "Exemples:\n",
    "\n",
    "\\>>> recherche([2, 3, 4, 5, 6], 5)\n",
    "\n",
    "3\n",
    "\n",
    "\\>>> recherche([2, 3, 4, 6, 7], 5)\n",
    "\n",
    "-1"
   ]
  },
  {
   "cell_type": "code",
   "execution_count": null,
   "metadata": {},
   "outputs": [],
   "source": [
    "def recherche(tab, n):\n",
    "    g = 0\n",
    "    d = len(tab)-1\n",
    "    while g <= d:\n",
    "        m = ???\n",
    "        if tab[m] < n:\n",
    "            g = m+1\n",
    "        elif tab[m] > n:\n",
    "            d = ???\n",
    "        else:\n",
    "            return ???\n",
    "    return ???"
   ]
  },
  {
   "cell_type": "code",
   "execution_count": null,
   "metadata": {},
   "outputs": [],
   "source": [
    " recherche([2, 3, 4, 5, 6], 5)"
   ]
  },
  {
   "cell_type": "code",
   "execution_count": null,
   "metadata": {},
   "outputs": [],
   "source": [
    "recherche([2, 3, 4, 6, 7], 5)"
   ]
  },
  {
   "cell_type": "markdown",
   "metadata": {},
   "source": [
    "La récursivité est adapté pour écrire ce type de fonction. Le programme qui suit est une traduction en récursif du programme itératif précédent."
   ]
  },
  {
   "cell_type": "code",
   "execution_count": null,
   "metadata": {},
   "outputs": [],
   "source": [
    "def recherche(tab, n):\n",
    "    g = 0\n",
    "    d = len(tab)-1\n",
    "    return recherche_rec(tab, n, g, d)\n",
    "\n",
    "def recherche_rec(tab, n, g, d):\n",
    "    if g > d:\n",
    "        return ???\n",
    "    m = ???\n",
    "    if tab[m] < n:\n",
    "        return recherche_rec(???)\n",
    "    elif tab[m] > n:\n",
    "        return recherche_rec(???)\n",
    "    else:\n",
    "        return ???"
   ]
  },
  {
   "cell_type": "code",
   "execution_count": null,
   "metadata": {},
   "outputs": [],
   "source": [
    "recherche([2, 3, 4, 5, 6], 5)"
   ]
  },
  {
   "cell_type": "code",
   "execution_count": null,
   "metadata": {},
   "outputs": [],
   "source": [
    "recherche([2, 3, 4, 6, 7], 5)"
   ]
  },
  {
   "cell_type": "markdown",
   "metadata": {},
   "source": [
    "# Recherche du minimum d'un tableau\n",
    "\n",
    "On veut trouver le minimum d'un tableau à l'aide la méthode diviser pour régner.\n",
    "\n",
    "Comme dans la dichotomie, on commence par \"couper en deux\" le tableau en deux sous-tableaux de même taille, puis on calcul récursivement le minimum de chaque sous-tableau. Le plus petit des deux sera le minimum du tableau.\n",
    "\n",
    "<img src=\"min.jpg\" alt=\"minimum\" width=\"500\"/>\n",
    "\n",
    "La condition d'arrêt de la récurrence sera l'obtention d'une liste à un seul élément, son minimum étant bien sûr la valeur de cet élément."
   ]
  },
  {
   "cell_type": "code",
   "execution_count": null,
   "metadata": {},
   "outputs": [],
   "source": [
    "def minimum(tab):\n",
    "    g = 0\n",
    "    d = len(tab)-1\n",
    "    return minimum_rec(tab, g, d)\n",
    "\n",
    "def minimum_rec(tab, g, d):\n",
    "    if g == d:\n",
    "        return ???\n",
    "    else:\n",
    "        m = ???\n",
    "        x = minimum_rec(???)\n",
    "        y = minimum_rec(???)\n",
    "        return ???"
   ]
  },
  {
   "cell_type": "code",
   "execution_count": null,
   "metadata": {},
   "outputs": [],
   "source": [
    "minimum([4,2,5,12])"
   ]
  },
  {
   "cell_type": "code",
   "execution_count": null,
   "metadata": {},
   "outputs": [],
   "source": [
    "minimum([4,2,5,1])"
   ]
  },
  {
   "cell_type": "code",
   "execution_count": null,
   "metadata": {},
   "outputs": [],
   "source": [
    "minimum([1,2,5,12])"
   ]
  },
  {
   "cell_type": "markdown",
   "metadata": {},
   "source": [
    "# Tri fusion\n",
    "\n",
    "Le principe du tri fusion, _merge sort_ en anglais, repose sur la stratégie diviser pour régner.\n",
    "\n",
    "La liste a trier est partagée en deux parties de tailles égales à une unité près, un appel récursif est alors réalisé sur chacune des deux parties. Lors que ces deux parties sont triées, elles sont fusionnées en une liste triée.\n",
    "\n",
    "<img src=\"trifusion.png\" alt=\"tri fusion\" width=\"500\"/>\n",
    "\n",
    "Partager une liste en deux est simple, le programme repose sur la fonction `fusion` qui prend deux tableaux `tab1` et `tab2` d'entiers triées par ordre croissant et les fusionne en un tableau triée `tab` qu'elle renvoie.\n",
    "\n",
    "Exemple :\n",
    "\n",
    "`>>> fusion([1,6,10],[0,7,8,9])`\n",
    "\n",
    "`[0, 1, 6, 7, 8, 9, 10]`"
   ]
  },
  {
   "cell_type": "code",
   "execution_count": null,
   "metadata": {},
   "outputs": [],
   "source": [
    "def fusion(tab1, tab2):\n",
    "    tab = []\n",
    "    i, j = 0, 0\n",
    "    # \n",
    "    while i < len(tab1) and ???:\n",
    "        if tab1[i] < tab2[j]:\n",
    "            tab.append(???)\n",
    "            i = ???\n",
    "        else:\n",
    "            tab.append(tab2[j])\n",
    "            j = ???\n",
    "    # s'il reste des éléments dans tab1\n",
    "    while i < len(tab1):\n",
    "        tab.append(???)\n",
    "        i = ???\n",
    "    # s'il reste des éléments dans tab2\n",
    "    while j < len(tab2):\n",
    "        tab.append(???)\n",
    "        j = ???\n",
    "    return tab"
   ]
  },
  {
   "cell_type": "markdown",
   "metadata": {},
   "source": [
    "Pour effectuer un tri, cette fonction `fusion` est appelée de manière récursive sur des parties du tableau à trier. La fonction de tri `tri_fusion` peut s'écrire ainsi :"
   ]
  },
  {
   "cell_type": "code",
   "execution_count": null,
   "metadata": {},
   "outputs": [],
   "source": [
    "def tri_fusion(tab):\n",
    "    # si le tableau contient 0 ou 1 élément\n",
    "    if ???:\n",
    "        return tab\n",
    "    else:\n",
    "        milieu = len(tab)//2\n",
    "        # partie gauche du tableau\n",
    "        tab1 = tab[:milieu]\n",
    "        # partie droite du tableau\n",
    "        tab2 = tab[milieu:]\n",
    "        return fusion(???,???)"
   ]
  },
  {
   "cell_type": "markdown",
   "metadata": {},
   "source": [
    "Tester la fonction ci-dessous :"
   ]
  },
  {
   "cell_type": "code",
   "execution_count": null,
   "metadata": {},
   "outputs": [],
   "source": [
    "t = [5, 7, 3, 5, 9, 6, 8, 1, 4, 6]\n",
    "print(tri_fusion(t))"
   ]
  },
  {
   "cell_type": "markdown",
   "metadata": {},
   "source": [
    "# Somme maximale des sous-tableaux\n",
    "\n",
    "Etant donné un tableau d'entiers, trouver la somme maximale parmi tous les sous-tableaux possibles.\n",
    "\n",
    "Exemple : La somme maximal des sous-tableaux de [2, -4, **1, 9, -6, 7**, -3] est 11 (sous-tableau en gras).\n",
    "\n",
    "`>>> A = [2, -4, 1, 9, -6, 7, -3]`\n",
    " \n",
    "`La somme maximal des sous-tableaux est 11` \n",
    "\n",
    "L'algorithme fonctionne de la manière suivante :\n",
    "- Diviser le tableau en deux tableaux de même taille\n",
    "- Calculer récursivement la somme maximal des sous-tableaux de la partie droite\n",
    "- Calculer récursivement la somme maximal des sous-tableaux de la partie gauche\n",
    "- Trouver la somme maximal incluant l'élément du milieu\n",
    "- Retourner le maximum des trois sommes précédentes"
   ]
  },
  {
   "cell_type": "code",
   "execution_count": null,
   "metadata": {},
   "outputs": [],
   "source": [
    "def somme_max(tab):\n",
    "    g = 0\n",
    "    d = len(tab)-1\n",
    "    return somme_max_rec(tab, g, d)\n",
    " \n",
    "# Fonction permettant de trouver la somme maximale des sous-tableaux\n",
    "def somme_max_rec(tab, g, d):\n",
    " \n",
    "    # Si le tableau ne contient qu'un seul élément\n",
    "    if g == d:\n",
    "        return ???\n",
    " \n",
    "    # Trouvez l'élément du milieu\n",
    "    m = ???\n",
    " \n",
    "    # Trouver la somme maximale des sous-tableaux pour le tableau de gauche,\n",
    "    # comprenant l'élément du milieu\n",
    "    max_gauche = float('-inf')\n",
    "    somme = 0\n",
    "    for i in range(m, g - 1, -1):\n",
    "        somme = ???\n",
    "        if somme > max_gauche:\n",
    "            max_gauche = ???\n",
    "    \n",
    "    # Trouvez la somme maximale des sous-tableaux pour le tableau de droite,\n",
    "    # en excluant l'élément du milieu\n",
    "    max_droit = float('-inf')\n",
    "    somme = 0\n",
    "    for i in range(m + 1, d + 1):\n",
    "        somme = ???\n",
    "        if somme > max_droit:\n",
    "            max_droit = ???\n",
    "\n",
    "    max_milieu = max_gauche + max_droit\n",
    "\n",
    "    # Trouver récursivement la somme maximale pour le tableau de gauche\n",
    "    # et le tableau de droite, et prendre le maximum\n",
    "    max_gauche_droite = max(???, ???)\n",
    " \n",
    "    # Retourner le maximum des trois sommes\n",
    "    return max(max_gauche_droite, max_milieu)"
   ]
  },
  {
   "cell_type": "code",
   "execution_count": null,
   "metadata": {},
   "outputs": [],
   "source": [
    "A = [2, -4, 1, 9, -6, 7, -3]\n",
    "print(\"La somme maximal des sous-tableaux est\", somme_max(A))"
   ]
  },
  {
   "cell_type": "code",
   "execution_count": null,
   "metadata": {},
   "outputs": [],
   "source": []
  }
 ],
 "metadata": {
  "kernelspec": {
   "display_name": "Python 3",
   "language": "python",
   "name": "python3"
  },
  "language_info": {
   "codemirror_mode": {
    "name": "ipython",
    "version": 3
   },
   "file_extension": ".py",
   "mimetype": "text/x-python",
   "name": "python",
   "nbconvert_exporter": "python",
   "pygments_lexer": "ipython3",
   "version": "3.6.9"
  }
 },
 "nbformat": 4,
 "nbformat_minor": 2
}
